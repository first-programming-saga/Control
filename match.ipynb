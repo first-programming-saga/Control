{
 "cells": [
  {
   "cell_type": "markdown",
   "metadata": {},
   "source": [
    "# match の基本\n",
    "場合分けを行うことができる。Python 3.10以降の新機能"
   ]
  },
  {
   "cell_type": "code",
   "execution_count": 4,
   "metadata": {},
   "outputs": [],
   "source": [
    "import math"
   ]
  },
  {
   "cell_type": "markdown",
   "metadata": {},
   "source": [
    "単純な値の一致"
   ]
  },
  {
   "cell_type": "code",
   "execution_count": 5,
   "metadata": {},
   "outputs": [
    {
     "name": "stdout",
     "output_type": "stream",
     "text": [
      "1\n"
     ]
    }
   ],
   "source": [
    "x = 1\n",
    "match x:\n",
    "    case 0 | 1: # x=0またはx=1\n",
    "        print(x)\n",
    "    case 2:\n",
    "        print(x)\n",
    "    case _:# 値が一致しない場合\n",
    "        print('default case')\n",
    "        print(x)\n"
   ]
  },
  {
   "cell_type": "markdown",
   "metadata": {},
   "source": [
    "部分的一致の例"
   ]
  },
  {
   "cell_type": "code",
   "execution_count": 6,
   "metadata": {},
   "outputs": [
    {
     "name": "stdout",
     "output_type": "stream",
     "text": [
      "on x-axis: x=1\n"
     ]
    }
   ],
   "source": [
    "p = (1,0)\n",
    "match p:\n",
    "    case (0,0):\n",
    "        print('origin')\n",
    "    case (x,0):\n",
    "        print(f'on x-axis: x={p[0]}')\n",
    "    case (0,y):\n",
    "        print(f'on y-axis: y={p[1]}')\n",
    "    case _:\n",
    "        print(p)\n"
   ]
  },
  {
   "cell_type": "code",
   "execution_count": 3,
   "metadata": {},
   "outputs": [
    {
     "name": "stdout",
     "output_type": "stream",
     "text": [
      "x は負\n"
     ]
    }
   ],
   "source": [
    "x=-2\n",
    "match x:\n",
    "    case 0:\n",
    "        print(f'xは{x}')\n",
    "    case x if x > 9:\n",
    "        print('x は10以上')\n",
    "    case x if x < 0:\n",
    "        print('x は負')\n",
    "    case _:\n",
    "        print('x は一桁の自然数')"
   ]
  }
 ],
 "metadata": {
  "kernelspec": {
   "display_name": "myenv",
   "language": "python",
   "name": "python3"
  },
  "language_info": {
   "codemirror_mode": {
    "name": "ipython",
    "version": 3
   },
   "file_extension": ".py",
   "mimetype": "text/x-python",
   "name": "python",
   "nbconvert_exporter": "python",
   "pygments_lexer": "ipython3",
   "version": "3.11.6"
  }
 },
 "nbformat": 4,
 "nbformat_minor": 2
}
