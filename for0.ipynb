{
  "cells": [
    {
      "metadata": {},
      "cell_type": "markdown",
      "source": "# forによる繰り返し\n\n## range()を用いた繰り返し回数の指定\nrange(n)は0からn-1までの整数の範囲を表す。上限の表現に注意。"
    },
    {
      "metadata": {},
      "cell_type": "markdown",
      "source": "0から10までの和"
    },
    {
      "metadata": {
        "trusted": true
      },
      "cell_type": "code",
      "source": "sum = 0\nfor i in range(11):\n    sum += i\nprint(sum)",
      "execution_count": null,
      "outputs": []
    },
    {
      "metadata": {},
      "cell_type": "markdown",
      "source": "range(n,m)は$n$から$m-1$までの整数。range(n,m,k)は$n$から$m-1$までの$k$毎の整数。上限の表現に注意。"
    },
    {
      "metadata": {
        "trusted": true,
        "scrolled": true
      },
      "cell_type": "code",
      "source": "for i in range(3,12,3):\n    print(i)",
      "execution_count": null,
      "outputs": []
    },
    {
      "metadata": {},
      "cell_type": "markdown",
      "source": "## リストの各要素に対する操作の例\nリストとは、値が一列に並んだもの。要素はカンマで区切る：次回に詳しく説明\n\n色を表すリストから一つずつ取り出す例。"
    },
    {
      "metadata": {
        "trusted": true
      },
      "cell_type": "code",
      "source": "colors = [\"red\",\"green\",\"orange\",\"blue\"]#文字列のリスト\nfor c in colors:\n    print(c)\nprint(\"-------\")",
      "execution_count": null,
      "outputs": []
    },
    {
      "metadata": {},
      "cell_type": "markdown",
      "source": "上の例と同じ動作をするコード。len()は、リストの長さを返す関数である。リスト内の位置を指定して、各要素を印刷している。"
    },
    {
      "metadata": {
        "trusted": true
      },
      "cell_type": "code",
      "source": "for i in range(len(colors)):\n    print(colors[i])\nprint(\"-------\")",
      "execution_count": null,
      "outputs": []
    },
    {
      "metadata": {},
      "cell_type": "markdown",
      "source": "## for文のネスティング\nfor文の中にfor文を書くこともできる"
    },
    {
      "metadata": {
        "trusted": true,
        "scrolled": true
      },
      "cell_type": "code",
      "source": "for i in range(3):\n    print (f'i={i}')\n    for j in range(4):\n        print(f'({i},{j})')",
      "execution_count": null,
      "outputs": []
    },
    {
      "metadata": {
        "trusted": true
      },
      "cell_type": "code",
      "source": "data=[[0.1,0.3,0.9],\n      [0.4,0.0,0.5],\n      [0.8,0.1,0.4]\n     ]\nfor i in range(len(data)):\n    subdata=data[i]\n    for j in range(len(subdata)):\n        x = subdata[j]\n        print(f'({i},{j})={x}')",
      "execution_count": null,
      "outputs": []
    },
    {
      "metadata": {
        "trusted": true
      },
      "cell_type": "markdown",
      "source": "## breakとcontinue\nbreakはforループを抜ける。continueは、それ以降のforループを実行せず、次へ移る。\ncontinueの場合は、ループのインデクスが増えることに注意する。\nwhileとの違いに注意する。\n\n例題ではリストの中から奇数のリストを生成する。しかし、リストの途中に負の量があると、そこで停止する。"
    },
    {
      "metadata": {
        "trusted": true
      },
      "cell_type": "code",
      "source": "data=[2,5,7,9,11,-3,8,-11,10,15]\nout = []\nfor x in data:\n    if x<0:\n        print('負の要素を発見。ループ中断')\n        break\n    if x%2==0:\n        continue\n    out.append(x)\nprint(out)",
      "execution_count": null,
      "outputs": []
    },
    {
      "metadata": {},
      "cell_type": "markdown",
      "source": "## for-else構文\nforに対してもelseはforの終了後に実行すべき処理を記述できる\n\n例では、dataがすべて正の量の場合のみ、結果が出力される。"
    },
    {
      "metadata": {
        "trusted": true
      },
      "cell_type": "code",
      "source": "data=[2,5,7,9,11,-3,8,-11,10,15]\nout = []\nfor x in data:\n    if x<0:\n        print('負の要素を発見。ループ中断')\n        break\n    if x%2==0:\n        continue\n    out.append(x)\nelse:\n    print(out)",
      "execution_count": null,
      "outputs": []
    },
    {
      "metadata": {},
      "cell_type": "markdown",
      "source": "## 【小テストの課題】\n1から10までの二乗の和をforを使って計算しなさい。"
    },
    {
      "metadata": {
        "trusted": true
      },
      "cell_type": "code",
      "source": "",
      "execution_count": null,
      "outputs": []
    }
  ],
  "metadata": {
    "kernelspec": {
      "name": "python36",
      "display_name": "Python 3.6",
      "language": "python"
    },
    "language_info": {
      "mimetype": "text/x-python",
      "nbconvert_exporter": "python",
      "name": "python",
      "pygments_lexer": "ipython3",
      "version": "3.6.6",
      "file_extension": ".py",
      "codemirror_mode": {
        "version": 3,
        "name": "ipython"
      }
    }
  },
  "nbformat": 4,
  "nbformat_minor": 2
}