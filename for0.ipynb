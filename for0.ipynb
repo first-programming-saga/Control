{
  "cells": [
    {
      "metadata": {},
      "cell_type": "markdown",
      "source": "# forによる繰り返し\nrange(n)は0からn-1までの整数の範囲を表す"
    },
    {
      "metadata": {
        "trusted": true
      },
      "cell_type": "code",
      "source": "sum = 0\nfor i in range(11):\n    sum += i\nprint(sum)",
      "execution_count": 4,
      "outputs": [
        {
          "output_type": "stream",
          "text": "55\n",
          "name": "stdout"
        }
      ]
    },
    {
      "metadata": {},
      "cell_type": "markdown",
      "source": "range(n,m)は$n$から$m-1$までの整数。range(n,m,k)は$n$から$m-1$までの$k$毎の整数。"
    },
    {
      "metadata": {
        "trusted": true,
        "scrolled": true
      },
      "cell_type": "code",
      "source": "for i in range(3,12,3):\n    print(i)",
      "execution_count": 1,
      "outputs": [
        {
          "output_type": "stream",
          "text": "3\n6\n9\n",
          "name": "stdout"
        }
      ]
    },
    {
      "metadata": {},
      "cell_type": "markdown",
      "source": "# リストの各要素に対する操作の例"
    },
    {
      "metadata": {
        "trusted": true
      },
      "cell_type": "code",
      "source": "colors = [\"red\",\"green\",\"orange\",\"blue\"]#文字列のリスト\nfor c in colors:\n    print(c)\nprint(\"-------\")",
      "execution_count": 2,
      "outputs": [
        {
          "output_type": "stream",
          "text": "red\ngreen\norange\nblue\n-------\n",
          "name": "stdout"
        }
      ]
    },
    {
      "metadata": {
        "trusted": true
      },
      "cell_type": "code",
      "source": "for i in range(len(colors)):\n    print(colors[i])\nprint(\"-------\")",
      "execution_count": 3,
      "outputs": [
        {
          "output_type": "stream",
          "text": "red\ngreen\norange\nblue\n-------\n",
          "name": "stdout"
        }
      ]
    },
    {
      "metadata": {
        "trusted": true
      },
      "cell_type": "markdown",
      "source": "# breakとcontinue\nbreakはforループを抜ける。continueは、それ以降のforループを実行せず、次へ移る。\ncontinueの場合は、ループのインデクスが増えることに注意する。\nwhileとの違いに注意する。\n\n例題ではリストの中から奇数のリストを生成する。しかし、リストの途中に負の量があると、そこで停止する。"
    },
    {
      "metadata": {
        "trusted": true
      },
      "cell_type": "code",
      "source": "data=[2,5,7,9,11,-3,8,-11,10,15]\nout = []\nfor x in data:\n    if x<0:\n        break\n    if x%2==0:\n        continue\n    out.append(x)\nprint(out)",
      "execution_count": 5,
      "outputs": [
        {
          "output_type": "stream",
          "text": "[5, 7, 9, 11]\n",
          "name": "stdout"
        }
      ]
    },
    {
      "metadata": {},
      "cell_type": "markdown",
      "source": "forに対してもelseはforの終了後に実行すべき処理を記述できる\n\n例では、dataがすべて正の量の場合のみ、結果が出力される。"
    },
    {
      "metadata": {
        "trusted": true
      },
      "cell_type": "code",
      "source": "data=[2,5,7,9,11,-3,8,-11,10,15]\nout = []\nfor x in data:\n    if x<0:\n        break\n    if x%2==0:\n        continue\n    out.append(x)\nelse:\n    print(out)",
      "execution_count": 8,
      "outputs": []
    },
    {
      "metadata": {},
      "cell_type": "markdown",
      "source": "# 【課題】\n1から10までの二乗の和を計算しなさい。"
    },
    {
      "metadata": {
        "trusted": true
      },
      "cell_type": "code",
      "source": "",
      "execution_count": null,
      "outputs": []
    }
  ],
  "metadata": {
    "kernelspec": {
      "name": "python36",
      "display_name": "Python 3.6",
      "language": "python"
    },
    "language_info": {
      "mimetype": "text/x-python",
      "nbconvert_exporter": "python",
      "name": "python",
      "pygments_lexer": "ipython3",
      "version": "3.6.6",
      "file_extension": ".py",
      "codemirror_mode": {
        "version": 3,
        "name": "ipython"
      }
    }
  },
  "nbformat": 4,
  "nbformat_minor": 2
}