{
  "cells": [
    {
      "metadata": {},
      "cell_type": "markdown",
      "source": "# whileの基本"
    },
    {
      "metadata": {},
      "cell_type": "markdown",
      "source": "変数cを一つずつ、9まで増やす"
    },
    {
      "metadata": {
        "trusted": true
      },
      "cell_type": "code",
      "source": "c = 0\nwhile c<10:\n    print(c)\n    c +=1",
      "execution_count": null,
      "outputs": []
    },
    {
      "metadata": {},
      "cell_type": "markdown",
      "source": "変数cを一つずつ増やし、sにcを加える。sが100を超えると終了する。"
    },
    {
      "metadata": {
        "trusted": true
      },
      "cell_type": "code",
      "source": "s = 0\nc = 0\nwhile s < 100:\n    s += c\n    print(f'c = {c}, s = {s}')\n    c += 1\nprint(s)",
      "execution_count": null,
      "outputs": []
    },
    {
      "metadata": {
        "trusted": true
      },
      "cell_type": "markdown",
      "source": "二つの整数$m$と$n$の最大公約数を求める：ユークリッドの互除法"
    },
    {
      "metadata": {
        "trusted": true
      },
      "cell_type": "code",
      "source": "n=465\nm=360\nif m > n:#m>nの場合は入れ替え得る\n    x = n\n    n = m\n    m = x\n    \nwhile m>0:\n    r = n % m\n    print(f'{n} % {m} = {r}')\n    n = m\n    m = r\nprint(n)",
      "execution_count": null,
      "outputs": []
    },
    {
      "metadata": {
        "trusted": true
      },
      "cell_type": "code",
      "source": "",
      "execution_count": null,
      "outputs": []
    }
  ],
  "metadata": {
    "kernelspec": {
      "name": "python36",
      "display_name": "Python 3.6",
      "language": "python"
    },
    "language_info": {
      "mimetype": "text/x-python",
      "nbconvert_exporter": "python",
      "name": "python",
      "pygments_lexer": "ipython3",
      "version": "3.6.6",
      "file_extension": ".py",
      "codemirror_mode": {
        "version": 3,
        "name": "ipython"
      }
    }
  },
  "nbformat": 4,
  "nbformat_minor": 2
}