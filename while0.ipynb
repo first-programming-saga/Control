{
  "cells": [
    {
      "cell_type": "markdown",
      "metadata": {},
      "source": [
        "# `while`の基本\n",
        "- ある条件を満たす間、処理を繰り返す"
      ]
    },
    {
      "cell_type": "markdown",
      "metadata": {},
      "source": [
        "変数 `c` を一つずつ、9まで増やす"
      ]
    },
    {
      "cell_type": "code",
      "execution_count": null,
      "metadata": {
        "trusted": true
      },
      "outputs": [],
      "source": [
        "c = 0\n",
        "while c < 10:\n",
        "    print(c)\n",
        "    c += 1"
      ]
    },
    {
      "cell_type": "markdown",
      "metadata": {},
      "source": [
        "変数 `c` を一つずつ増やし、`s` に `c` を加える。`s` が 100 を超えると終了する。"
      ]
    },
    {
      "cell_type": "code",
      "execution_count": null,
      "metadata": {
        "trusted": true
      },
      "outputs": [],
      "source": [
        "s = 0\n",
        "c = 0\n",
        "while s < 100:\n",
        "    s += c\n",
        "    print(f'c = {c}, s = {s}')\n",
        "    c += 1\n",
        "print(s)"
      ]
    },
    {
      "cell_type": "markdown",
      "metadata": {
        "trusted": true
      },
      "source": [
        "## ユークリッドの互除法: Euclidean mutual division method\n",
        "二つの整数$m$と$n$の最大公約数を求める"
      ]
    },
    {
      "cell_type": "code",
      "execution_count": null,
      "metadata": {
        "trusted": true
      },
      "outputs": [],
      "source": [
        "n = 465\n",
        "m = 360\n",
        "message = f'{n}と{m}の最大公約数は'\n",
        "if m > n :#m>nの場合は入れ替え得る\n",
        "    x = n\n",
        "    n = m\n",
        "    m = x\n",
        "    \n",
        "while m > 0 :\n",
        "    r = n % m\n",
        "    print(f'{n} % {m} = {r}')\n",
        "    n = m\n",
        "    m = r\n",
        "\n",
        "print(f'{message}{n}')"
      ]
    }
  ],
  "metadata": {
    "interpreter": {
      "hash": "6b0d672cbe8d0a33fe0f78ef72c898ec07614ef49828a69cf214e8e34f4a3f57"
    },
    "kernelspec": {
      "display_name": "Python 3.6",
      "language": "python",
      "name": "python3"
    },
    "language_info": {
      "codemirror_mode": {
        "name": "ipython",
        "version": 3
      },
      "file_extension": ".py",
      "mimetype": "text/x-python",
      "name": "python",
      "nbconvert_exporter": "python",
      "pygments_lexer": "ipython3",
      "version": "3.9.7"
    }
  },
  "nbformat": 4,
  "nbformat_minor": 2
}
