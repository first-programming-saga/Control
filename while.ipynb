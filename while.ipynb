{
  "cells": [
    {
      "metadata": {
        "trusted": true
      },
      "cell_type": "code",
      "source": "from random import randint\nimport math",
      "execution_count": 13,
      "outputs": []
    },
    {
      "metadata": {},
      "cell_type": "markdown",
      "source": "whileを用いて、条件を満たしている限り処理を繰り返すことができる。\n無限ループとならないように注意が必要である。"
    },
    {
      "metadata": {
        "trusted": true
      },
      "cell_type": "code",
      "source": "x = randint(0,100) # 0以上100以下の整数乱数\nwhile x < 80:\n    print(x)\n    x = randint(0,100)\nmessage = f'end with {x}'\nprint(message)",
      "execution_count": 14,
      "outputs": [
        {
          "output_type": "stream",
          "text": "10\nend with 96\n",
          "name": "stdout"
        }
      ]
    },
    {
      "metadata": {},
      "cell_type": "markdown",
      "source": "whileを用いて, $n$が素数であるかを判定する。"
    },
    {
      "metadata": {
        "trusted": true
      },
      "cell_type": "code",
      "source": "n = 219\nif n <= 0:\n    print(f'{n}は正でなければならない')\nelif n < 2:\n    print(f'{n}は素数ではない')\nelif n % 2 == 0:\n    print(f'{n}は偶数であり、素数ではない')\nelse:\n    m=int(math.sqrt(n))\n    k = 3\n    while k <= m:\n        if n % k == 0:\n            print(f'{n}は{k}で割り切れるため、素数ではない')\n            break#whileループから抜け出す\n        k += 2\n    else:#whileループの最後まで至った場合\n        print(f'{n}は素数である')\n",
      "execution_count": 24,
      "outputs": [
        {
          "output_type": "stream",
          "text": "219は3で割り切れるため、素数ではない\n",
          "name": "stdout"
        }
      ]
    },
    {
      "metadata": {
        "trusted": true
      },
      "cell_type": "code",
      "source": "",
      "execution_count": null,
      "outputs": []
    }
  ],
  "metadata": {
    "kernelspec": {
      "name": "python36",
      "display_name": "Python 3.6",
      "language": "python"
    },
    "language_info": {
      "mimetype": "text/x-python",
      "nbconvert_exporter": "python",
      "name": "python",
      "pygments_lexer": "ipython3",
      "version": "3.6.6",
      "file_extension": ".py",
      "codemirror_mode": {
        "version": 3,
        "name": "ipython"
      }
    }
  },
  "nbformat": 4,
  "nbformat_minor": 2
}