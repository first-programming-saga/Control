{
  "cells": [
    {
      "attachments": {},
      "cell_type": "markdown",
      "metadata": {},
      "source": [
        "# `while`を使った繰り返し\n",
        "- `while`を用いて、条件を満たしている限り処理を繰り返すことができる。\n",
        "- 無限ループとならないように注意が必要である。\n",
        "- 実行する前にしっかりと確認すること。"
      ]
    },
    {
      "cell_type": "code",
      "execution_count": null,
      "metadata": {
        "trusted": true
      },
      "outputs": [],
      "source": [
        "from random import randint #乱数生成に必要なモジュール\n",
        "import math #数学関数のモジュール"
      ]
    },
    {
      "attachments": {},
      "cell_type": "markdown",
      "metadata": {},
      "source": [
        "# `break`と`continue`\n",
        "- `break`は`while`ループを抜ける。\n",
        "- `continue`は、それ以降の`while`ループ内の処理を実行せず、`while`の先頭へ戻る"
      ]
    },
    {
      "cell_type": "code",
      "execution_count": null,
      "metadata": {
        "scrolled": false,
        "trusted": true
      },
      "outputs": [],
      "source": [
        "while True:\n",
        "    x = randint(0,99) # 0から99までの整数をでたらめに返す\n",
        "    if x % 5 == 0:\n",
        "        break#whileループを抜ける\n",
        "    elif x % 7 == 0:\n",
        "        continue#whileループの先頭へ\n",
        "    print (x)\n",
        "print(f'while loop ends with {x}')"
      ]
    },
    {
      "cell_type": "markdown",
      "metadata": {},
      "source": [
        "## `while-else`の組\n",
        "`while`が最後まで実行された場合(つまり、`break`されなかった場合)の処理を`else`に記述することができる\n",
        "- 例では、内側の`while`に`else`があることに注意"
      ]
    },
    {
      "cell_type": "code",
      "execution_count": null,
      "metadata": {
        "trusted": true
      },
      "outputs": [],
      "source": [
        "i = 1\n",
        "while i <= 10:\n",
        "    print(f'{i}回目')\n",
        "    s = 0\n",
        "    c = 0\n",
        "    message = 'fail'\n",
        "    while s < 200:\n",
        "        x = randint(0, 100) # 0以上100以下の整数乱数\n",
        "        s += x\n",
        "        c += 1\n",
        "        if c>=5:\n",
        "            break\n",
        "    else:\n",
        "        message = f'end with {s}'\n",
        "    print(message)\n",
        "    i += 1"
      ]
    },
    {
      "cell_type": "markdown",
      "metadata": {},
      "source": [
        "# `while`を使った例\n",
        "`while`を用いて, $n$が素数であるかを判定する。\n",
        "\n",
        "`else`の部分は`while`ループが最後まで実行された場合にのみ実行される。つまり、素数の場合のみ、実行する。"
      ]
    },
    {
      "cell_type": "code",
      "execution_count": null,
      "metadata": {
        "scrolled": true,
        "trusted": true
      },
      "outputs": [],
      "source": [
        "n = 219\n",
        "match n:\n",
        "    case n if type(n) != int:\n",
        "        print(f'{n}は整数でなければならない')\n",
        "    case n if n <= 0:\n",
        "        print(f'{n}は正でなければならない')\n",
        "    case n if n < 2:\n",
        "        print(f'{n}は素数ではない')\n",
        "    case 2:\n",
        "        print(f'{n}は素数である')\n",
        "    case n if n % 2 == 0:\n",
        "        print(f'{n}は偶数であり、素数ではない')\n",
        "    case _:\n",
        "        m = int(math.sqrt(n))\n",
        "        k = 3\n",
        "        while k <= m:\n",
        "            if n % k == 0:\n",
        "                print(f'{n}は{k}で割り切れるため、素数ではない')\n",
        "                break#whileループから抜け出す\n",
        "            k += 2\n",
        "        else:#whileループの最後まで至った場合\n",
        "            print(f'{n}は素数である')\n"
      ]
    }
  ],
  "metadata": {
    "kernelspec": {
      "display_name": "Python 3.9.7 ('myenv')",
      "language": "python",
      "name": "python3"
    },
    "language_info": {
      "codemirror_mode": {
        "name": "ipython",
        "version": 3
      },
      "file_extension": ".py",
      "mimetype": "text/x-python",
      "name": "python",
      "nbconvert_exporter": "python",
      "pygments_lexer": "ipython3",
      "version": "3.12.1"
    },
    "vscode": {
      "interpreter": {
        "hash": "5b50574aca822a4663eeb358827631e5cbe081f130521b0066dec6b864ef6f2f"
      }
    }
  },
  "nbformat": 4,
  "nbformat_minor": 2
}
