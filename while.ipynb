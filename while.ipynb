{
  "cells": [
    {
      "metadata": {},
      "cell_type": "markdown",
      "source": "# whileを使った繰り返し"
    },
    {
      "metadata": {},
      "cell_type": "markdown",
      "source": "whileを用いて、条件を満たしている限り処理を繰り返すことができる。\n無限ループとならないように注意が必要である。\n実行するまえにしっかりと確認すること。"
    },
    {
      "metadata": {
        "trusted": true
      },
      "cell_type": "code",
      "source": "from random import randint\nimport math",
      "execution_count": 1,
      "outputs": []
    },
    {
      "metadata": {
        "trusted": true
      },
      "cell_type": "code",
      "source": "x = randint(0,100) # 0以上100以下の整数乱数\nwhile x < 80:\n    print(x)\n    x = randint(0,100)\nmessage = f'end with {x}'\nprint(message)",
      "execution_count": 2,
      "outputs": [
        {
          "output_type": "stream",
          "text": "end with 85\n",
          "name": "stdout"
        }
      ]
    },
    {
      "metadata": {},
      "cell_type": "markdown",
      "source": "# breakとcontinue\nbreakはwhileループを抜ける。continueは、それ以降のwhileループを実行せず、whileの先頭へ戻る"
    },
    {
      "metadata": {
        "trusted": true
      },
      "cell_type": "code",
      "source": "while True:\n    x = randint(0,99)\n    if x % 5==0:\n        break#whileループを抜ける\n    elif x % 7 == 0:\n        continue#whileループの先頭へ\n    print (x)\nprint(\"end with \"+str(x))",
      "execution_count": 5,
      "outputs": [
        {
          "output_type": "stream",
          "text": "41\n81\n87\nend with 10\n",
          "name": "stdout"
        }
      ]
    },
    {
      "metadata": {},
      "cell_type": "markdown",
      "source": "# whileを使った例\nwhileを用いて, $n$が素数であるかを判定する。\n\nelseの部分はwhileループが最後まで実行された場合にのみ実行される"
    },
    {
      "metadata": {
        "trusted": true,
        "scrolled": true
      },
      "cell_type": "code",
      "source": "n = 219\nif n <= 0:\n    print(f'{n}は正でなければならない')\nelif n < 2:\n    print(f'{n}は素数ではない')\nelif n % 2 == 0:\n    print(f'{n}は偶数であり、素数ではない')\nelse:\n    m=int(math.sqrt(n))\n    k = 3\n    while k <= m:\n        if n % k == 0:\n            print(f'{n}は{k}で割り切れるため、素数ではない')\n            break#whileループから抜け出す\n        k += 2\n    else:#whileループの最後まで至った場合\n        print(f'{n}は素数である')\n",
      "execution_count": 4,
      "outputs": [
        {
          "output_type": "stream",
          "text": "219は3で割り切れるため、素数ではない\n",
          "name": "stdout"
        }
      ]
    },
    {
      "metadata": {
        "trusted": true
      },
      "cell_type": "markdown",
      "source": "# 【課題】\n0から10までの和をwhileを使って計算しなさい。無限ループにならないように、十分に注意すること。"
    },
    {
      "metadata": {
        "trusted": true
      },
      "cell_type": "code",
      "source": "",
      "execution_count": null,
      "outputs": []
    }
  ],
  "metadata": {
    "kernelspec": {
      "name": "python36",
      "display_name": "Python 3.6",
      "language": "python"
    },
    "language_info": {
      "mimetype": "text/x-python",
      "nbconvert_exporter": "python",
      "name": "python",
      "pygments_lexer": "ipython3",
      "version": "3.6.6",
      "file_extension": ".py",
      "codemirror_mode": {
        "version": 3,
        "name": "ipython"
      }
    }
  },
  "nbformat": 4,
  "nbformat_minor": 2
}