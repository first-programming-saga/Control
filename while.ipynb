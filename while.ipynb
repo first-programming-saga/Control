{
  "cells": [
    {
      "cell_type": "markdown",
      "metadata": {},
      "source": [
        "# whileを使った繰り返し"
      ]
    },
    {
      "cell_type": "markdown",
      "metadata": {},
      "source": [
        "whileを用いて、条件を満たしている限り処理を繰り返すことができる。\n",
        "無限ループとならないように注意が必要である。\n",
        "実行する前にしっかりと確認すること。"
      ]
    },
    {
      "cell_type": "code",
      "execution_count": null,
      "metadata": {
        "trusted": true
      },
      "outputs": [],
      "source": [
        "from random import randint #乱数生成に必要なモジュール\n",
        "import math #数学関数のモジュール"
      ]
    },
    {
      "cell_type": "markdown",
      "metadata": {},
      "source": [
        "# breakとcontinue\n",
        "breakはwhileループを抜ける。continueは、それ以降のwhileループを実行せず、whileの先頭へ戻る"
      ]
    },
    {
      "cell_type": "code",
      "execution_count": null,
      "metadata": {
        "scrolled": false,
        "trusted": true
      },
      "outputs": [],
      "source": [
        "while True:\n",
        "    x = randint(0,99) # 0から99までの整数をでたらめに返す\n",
        "    if x % 5 == 0:\n",
        "        break#whileループを抜ける\n",
        "    elif x % 7 == 0:\n",
        "        continue#whileループの先頭へ\n",
        "    print (x)\n",
        "print(f'while loop ends with {x}')"
      ]
    },
    {
      "cell_type": "markdown",
      "metadata": {},
      "source": [
        "## while-elseの組\n",
        "whileが最後まで実行された場合(つまり、breakされなかった場合)の処理をelseに記述することができる"
      ]
    },
    {
      "cell_type": "code",
      "execution_count": null,
      "metadata": {
        "trusted": true
      },
      "outputs": [],
      "source": [
        "i = 1\n",
        "while i <= 10:\n",
        "    print(f'{i}回目')\n",
        "    s = 0\n",
        "    c = 0\n",
        "    message = 'fail'\n",
        "    while s < 200:\n",
        "        x = randint(0, 100) # 0以上100以下の整数乱数\n",
        "        s += x\n",
        "        c += 1\n",
        "        if c>=5:\n",
        "            break\n",
        "    else:\n",
        "        message = f'end with {s}'\n",
        "    print(message)\n",
        "    i += 1"
      ]
    },
    {
      "cell_type": "markdown",
      "metadata": {},
      "source": [
        "# whileを使った例\n",
        "whileを用いて, $n$が素数であるかを判定する。\n",
        "\n",
        "elseの部分はwhileループが最後まで実行された場合にのみ実行される"
      ]
    },
    {
      "cell_type": "code",
      "execution_count": null,
      "metadata": {
        "scrolled": true,
        "trusted": true
      },
      "outputs": [],
      "source": [
        "n = 219\n",
        "if n <= 0:\n",
        "    print(f'{n}は正でなければならない')\n",
        "elif n < 2:\n",
        "    print(f'{n}は素数ではない')\n",
        "elif n % 2 == 0:\n",
        "    print(f'{n}は偶数であり、素数ではない')\n",
        "else:\n",
        "    m = int(math.sqrt(n))\n",
        "    k = 3\n",
        "    while k <= m:\n",
        "        if n % k == 0:\n",
        "            print(f'{n}は{k}で割り切れるため、素数ではない')\n",
        "            break#whileループから抜け出す\n",
        "        k += 2\n",
        "    else:#whileループの最後まで至った場合\n",
        "        print(f'{n}は素数である')\n"
      ]
    },
    {
      "cell_type": "markdown",
      "metadata": {
        "trusted": true
      },
      "source": [
        "# 【課題】\n",
        "0から10までの和をwhileを使って計算しなさい。無限ループにならないように、十分に注意すること。"
      ]
    },
    {
      "cell_type": "code",
      "execution_count": null,
      "metadata": {
        "trusted": true
      },
      "outputs": [],
      "source": []
    }
  ],
  "metadata": {
    "kernelspec": {
      "display_name": "Python 3.6",
      "language": "python",
      "name": "python36"
    },
    "language_info": {
      "codemirror_mode": {
        "name": "ipython",
        "version": 3
      },
      "file_extension": ".py",
      "mimetype": "text/x-python",
      "name": "python",
      "nbconvert_exporter": "python",
      "pygments_lexer": "ipython3",
      "version": "3.6.6"
    }
  },
  "nbformat": 4,
  "nbformat_minor": 2
}
