{
  "cells": [
    {
      "metadata": {},
      "cell_type": "markdown",
      "source": [
        "リスト中のデータ$\\lbrace d_i\\rbrace$の平均と標準偏差を求める。"
      ]
    },
    {
      "metadata": {
        "trusted": true,
        "scrolled": true
      },
      "cell_type": "code",
      "source": [
        "#mathというモジュールを読み込む\n",
        "import math\n",
        "#対象とするデータ\n",
        "#データが一列に並んだものをリストと言う\n",
        "data = [80, 85, 90, 50, 100, 80, 75, 95, 100, 60, 80, 70, 65, 90, 85]\n",
        "n = len(data)\n",
        "print(\"データ数 \" + str(n))"
      ],
      "execution_count": null,
      "outputs": []
    },
    {
      "metadata": {},
      "cell_type": "markdown",
      "source": [
        "各データの和sumと、二乗の和sum2を計算する\n",
        "$$s=\\sum_i d_i$$\n",
        "$$s_2=\\sum_i d_i^2$$"
      ]
    },
    {
      "metadata": {
        "trusted": true
      },
      "cell_type": "code",
      "source": [
        "sum = 0 #和を保存\n",
        "sum2 = 0 #二乗和を保存\n",
        "for d in data:\n",
        "    sum  += d\n",
        "    sum2 += d*d  "
      ],
      "execution_count": null,
      "outputs": []
    },
    {
      "metadata": {},
      "cell_type": "markdown",
      "source": [
        "和をデータの数$n$で除して、平均を求める。\n",
        "\\begin{align}\n",
        "\\langle d\\rangle &= \\frac{s}{n}\\\\\n",
        "\\langle d^2\\rangle &= \\frac{s_2}{n}\n",
        "\\end{align}\n",
        "標準偏差$\\sigma$を平均と二乗平均から求める。\n",
        "$$\\sigma^2=\\langle d^2\\rangle-\\langle d\\rangle^2$$\n",
        "なお、math.sqrt(x)は$\\sqrt{x}$を計算する関数である。"
      ]
    },
    {
      "metadata": {
        "trusted": true
      },
      "cell_type": "code",
      "source": [
        "average = sum / n\n",
        "average2 = sum2 / n\n",
        "s2 = average2 - average * average #分散\n",
        "deviation = math.sqrt(s2) #標準偏差\n",
        "\n",
        "#小数点以下2桁で出力\n",
        "print(\"平均 %.2f\" % average)\n",
        "print(\"標準偏差 %.2f\" % deviation)"
      ],
      "execution_count": null,
      "outputs": []
    }
  ],
  "metadata": {
    "kernelspec": {
      "name": "python36",
      "display_name": "Python 3.6",
      "language": "python"
    },
    "language_info": {
      "mimetype": "text/x-python",
      "nbconvert_exporter": "python",
      "name": "python",
      "pygments_lexer": "ipython3",
      "version": "3.6.6",
      "file_extension": ".py",
      "codemirror_mode": {
        "version": 3,
        "name": "ipython"
      }
    }
  },
  "nbformat": 4,
  "nbformat_minor": 2
}