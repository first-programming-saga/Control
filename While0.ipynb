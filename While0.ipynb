{
  "cells": [
    {
      "metadata": {},
      "cell_type": "markdown",
      "source": "# whileの基本"
    },
    {
      "metadata": {
        "trusted": true
      },
      "cell_type": "code",
      "source": "c = 0\nwhile c<10:\n    print(c)\n    c +=1",
      "execution_count": 1,
      "outputs": [
        {
          "output_type": "stream",
          "text": "0\n1\n2\n3\n4\n5\n6\n7\n8\n9\n",
          "name": "stdout"
        }
      ]
    },
    {
      "metadata": {
        "trusted": true
      },
      "cell_type": "code",
      "source": "s = 0\nc = 0\nwhile s < 100:\n    s += c\n    print(f'c = {c}, s = {s}')\n    c += 1\nprint(s)",
      "execution_count": 2,
      "outputs": [
        {
          "output_type": "stream",
          "text": "c = 0, s = 0\nc = 1, s = 1\nc = 2, s = 3\nc = 3, s = 6\nc = 4, s = 10\nc = 5, s = 15\nc = 6, s = 21\nc = 7, s = 28\nc = 8, s = 36\nc = 9, s = 45\nc = 10, s = 55\nc = 11, s = 66\nc = 12, s = 78\nc = 13, s = 91\nc = 14, s = 105\n105\n",
          "name": "stdout"
        }
      ]
    },
    {
      "metadata": {
        "trusted": true
      },
      "cell_type": "markdown",
      "source": "二つの整数$m$と$n$の最大公約数を求める：ユークリッドの互除法"
    },
    {
      "metadata": {
        "trusted": true
      },
      "cell_type": "code",
      "source": "n=465\nm=360\nif m > n:#m>nの場合は入れ替え得る\n    x = n\n    n = m\n    m = x\n    \nwhile m>0:\n    r = n % m\n    print(f'{n} % {m} = {r}')\n    n = m\n    m = r\nprint(n)",
      "execution_count": 2,
      "outputs": [
        {
          "output_type": "stream",
          "text": "465 % 360 = 105\n360 % 105 = 45\n105 % 45 = 15\n45 % 15 = 0\n15\n",
          "name": "stdout"
        }
      ]
    },
    {
      "metadata": {
        "trusted": true
      },
      "cell_type": "code",
      "source": "",
      "execution_count": null,
      "outputs": []
    }
  ],
  "metadata": {
    "kernelspec": {
      "name": "python36",
      "display_name": "Python 3.6",
      "language": "python"
    },
    "language_info": {
      "mimetype": "text/x-python",
      "nbconvert_exporter": "python",
      "name": "python",
      "pygments_lexer": "ipython3",
      "version": "3.6.6",
      "file_extension": ".py",
      "codemirror_mode": {
        "version": 3,
        "name": "ipython"
      }
    }
  },
  "nbformat": 4,
  "nbformat_minor": 2
}