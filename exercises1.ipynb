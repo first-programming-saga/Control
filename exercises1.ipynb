{
 "cells": [
  {
   "cell_type": "markdown",
   "metadata": {},
   "source": [
    "# 制御1\n",
    "演習問題: ifとwhile"
   ]
  },
  {
   "cell_type": "markdown",
   "metadata": {},
   "source": [
    "二つの整数変数$a$と$b$を考える。これに対して以下のように$x$を定めるプログラムを書き、動作を確認しなさい。\n",
    "- $x=1$: $a>b$の場合\n",
    "- $x=-1$: $a<b$の場合\n",
    "- $x=0$: $a=b$の場合"
   ]
  },
  {
   "cell_type": "code",
   "execution_count": null,
   "metadata": {},
   "outputs": [],
   "source": []
  },
  {
   "cell_type": "markdown",
   "metadata": {},
   "source": [
    "三つの整数変数$a$、$b$及び$c$を考える。これに対して、以下のように$x$を定めるプログラムを書き、動作を確認しなさい。\n",
    "- $a<0$\n",
    "    - $b<c$ならば$x=-2$\n",
    "    - $b\\ge c$ならば$x=-1$\n",
    "- $a\\ge 0$\n",
    "    - $b<c$ならば$x=1$\n",
    "    - $b\\ge c$ならば$x=2$"
   ]
  },
  {
   "cell_type": "code",
   "execution_count": null,
   "metadata": {},
   "outputs": [],
   "source": []
  },
  {
   "cell_type": "markdown",
   "metadata": {},
   "source": [
    "1から10までの二乗の和\n",
    "$$x = \\sum_{k=1}^{10} k^2$$\n",
    "を求めるプログラムをwhileを使って作成し、動作を確認しなさい。"
   ]
  },
  {
   "cell_type": "code",
   "execution_count": null,
   "metadata": {},
   "outputs": [],
   "source": []
  },
  {
   "cell_type": "markdown",
   "metadata": {},
   "source": [
    "random.randoint(a,b)は、$a$以上$b$以下の数をデタラメに生成する。0以上10以下の整数をデタラメに生成し、その和が1000以上になるまでの回数を計測するプログラムを作成し、動作を確認しなさい。"
   ]
  },
  {
   "cell_type": "code",
   "execution_count": 1,
   "metadata": {},
   "outputs": [],
   "source": [
    "import random\n",
    "\n"
   ]
  }
 ],
 "metadata": {
  "kernelspec": {
   "display_name": "Python 3.9.7 ('myenv')",
   "language": "python",
   "name": "python3"
  },
  "language_info": {
   "codemirror_mode": {
    "name": "ipython",
    "version": 3
   },
   "file_extension": ".py",
   "mimetype": "text/x-python",
   "name": "python",
   "nbconvert_exporter": "python",
   "pygments_lexer": "ipython3",
   "version": "3.9.7"
  },
  "orig_nbformat": 4,
  "vscode": {
   "interpreter": {
    "hash": "5b50574aca822a4663eeb358827631e5cbe081f130521b0066dec6b864ef6f2f"
   }
  }
 },
 "nbformat": 4,
 "nbformat_minor": 2
}
