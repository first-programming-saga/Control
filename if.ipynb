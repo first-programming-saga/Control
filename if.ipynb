{
  "cells": [
    {
      "metadata": {},
      "cell_type": "markdown",
      "source": "# 条件分岐\n条件分岐の例を示す。コロン\":\"が条件ブロックの始まりを表し、インデントが範囲を示していることに注意する。\n例では、else節内に、さらに条件分岐がある。"
    },
    {
      "metadata": {
        "trusted": true
      },
      "cell_type": "code",
      "source": "a = 50\nb = 30",
      "execution_count": 1,
      "outputs": []
    },
    {
      "metadata": {
        "trusted": true
      },
      "cell_type": "code",
      "source": "if a == b : #a と b が等しい場合\n    c = a\n    message = \"同点\"\nelse: #a と b が異なる場合\n    if a > b:\n        c = a\n        message = \"a の勝ち\"\n    else:\n        c = b\n        message = \"b の勝ち\"\nprint(message)\nprint(c)",
      "execution_count": 2,
      "outputs": [
        {
          "output_type": "stream",
          "text": "a の勝ち\n50\n",
          "name": "stdout"
        }
      ]
    },
    {
      "metadata": {},
      "cell_type": "markdown",
      "source": "上の条件分岐の別表現を示す。elif (else if の意味) を使って、else節内での条件分岐を表すことができる。"
    },
    {
      "metadata": {
        "trusted": true
      },
      "cell_type": "code",
      "source": "if a == b : #a と b が等しい場合\n    c = a\n    message = \"同点\"\nelif a > b:\n    c = a\n    message = \"a の勝ち\"\nelse:\n    c = b\n    message = \"b の勝ち\"\nprint(message)\nprint(c)",
      "execution_count": 3,
      "outputs": [
        {
          "output_type": "stream",
          "text": "a の勝ち\n50\n",
          "name": "stdout"
        }
      ]
    },
    {
      "metadata": {},
      "cell_type": "markdown",
      "source": "pythonにはswitch文が存在しない。上記のelifを用いて場合分けを行う。"
    },
    {
      "metadata": {},
      "cell_type": "markdown",
      "source": "#  【課題】\n$x<0$の場合は$y=-1$、$0\\le x<1$の場合は$y=0$、それ以外は$y=1$となるプログラムを作成しなさい。\nまた、その動作を確認しなさい。"
    },
    {
      "metadata": {
        "trusted": true
      },
      "cell_type": "code",
      "source": "",
      "execution_count": null,
      "outputs": []
    }
  ],
  "metadata": {
    "kernelspec": {
      "name": "python36",
      "display_name": "Python 3.6",
      "language": "python"
    },
    "language_info": {
      "mimetype": "text/x-python",
      "nbconvert_exporter": "python",
      "name": "python",
      "pygments_lexer": "ipython3",
      "version": "3.6.6",
      "file_extension": ".py",
      "codemirror_mode": {
        "version": 3,
        "name": "ipython"
      }
    }
  },
  "nbformat": 4,
  "nbformat_minor": 2
}