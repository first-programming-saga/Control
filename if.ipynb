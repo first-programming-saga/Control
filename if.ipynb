{
  "cells": [
    {
      "attachments": {},
      "cell_type": "markdown",
      "metadata": {},
      "source": [
        "# 条件分岐\n",
        "\n",
        "プログラム中の処理を条件に応じて変える必要がある場合に、条件分岐を用いる。\n",
        "\n",
        "- ここでは、簡単な条件分岐の例を示す。コロン`:`が条件ブロックの始まりを表し、インデントが範囲を示していることに注意する。\n",
        "- 一般に、プログラムのブロック開始はコロンであり、インデントはそのブロックの範囲を表す。"
      ]
    },
    {
      "cell_type": "markdown",
      "metadata": {},
      "source": [
        "## とても単純な`if`の例\n",
        "- 条件を満たした場合 (`if`) にあるコードを実行する\n",
        "- 条件を満たした場合 (`if`) と満たさない場合 (`else`) に実行するコードを分ける"
      ]
    },
    {
      "cell_type": "code",
      "execution_count": null,
      "metadata": {
        "trusted": true
      },
      "outputs": [],
      "source": [
        "a = - 10\n",
        "if a < 0 :#aが負ならば、符号を変える\n",
        "    # インデントに注目\n",
        "    a *= -1\n",
        "print(a)"
      ]
    },
    {
      "cell_type": "code",
      "execution_count": null,
      "metadata": {
        "scrolled": false,
        "trusted": true
      },
      "outputs": [],
      "source": [
        "a = - 20\n",
        "if a < 0 :#aが負の場合\n",
        "    b = - a\n",
        "else :#aが負でない場合\n",
        "    b = a\n",
        "print(b)"
      ]
    },
    {
      "cell_type": "code",
      "execution_count": null,
      "metadata": {},
      "outputs": [],
      "source": [
        "a = -20\n",
        "b = -a if a < 0 else a\n",
        "print(b)"
      ]
    },
    {
      "cell_type": "markdown",
      "metadata": {},
      "source": [
        "## 複数の条件を判断する例\n",
        "- 複数の条件を`and`や`or`を使って連結する\n",
        "- どの条件判断の順序を明示するために、`()`を用いる"
      ]
    },
    {
      "cell_type": "code",
      "execution_count": null,
      "metadata": {
        "trusted": true
      },
      "outputs": [],
      "source": [
        "a = 50\n",
        "b = -30\n",
        "c = 5"
      ]
    },
    {
      "cell_type": "code",
      "execution_count": null,
      "metadata": {
        "scrolled": true,
        "trusted": true
      },
      "outputs": [],
      "source": [
        "message = '未設定'\n",
        "if a > 0 and b > 0 :\n",
        "    message = 'a もb も正です'\n",
        "if a > 0 or b > 0 :\n",
        "    message = 'a かb の少なくとも一方が正です'\n",
        "print(message)"
      ]
    },
    {
      "cell_type": "code",
      "execution_count": null,
      "metadata": {
        "trusted": true
      },
      "outputs": [],
      "source": [
        "message = '未設定'\n",
        "if (a > 0 and b > 0) and c > 0 :\n",
        "    message = 'a もb もcも正です'\n",
        "if (a > 0 or b > 0) and c > 0 :\n",
        "    message = 'a かb の少なくとも一方が正で、cは正です'\n",
        "print(message)"
      ]
    },
    {
      "cell_type": "markdown",
      "metadata": {},
      "source": [
        "少し複雑な場合。例では、`else`節の中にさらに`if-else`節がある"
      ]
    },
    {
      "cell_type": "code",
      "execution_count": null,
      "metadata": {
        "trusted": true
      },
      "outputs": [],
      "source": [
        "a = 50\n",
        "b = 30"
      ]
    },
    {
      "cell_type": "code",
      "execution_count": null,
      "metadata": {
        "trusted": true
      },
      "outputs": [],
      "source": [
        "if a == b : #a と b が等しい場合\n",
        "    c = a\n",
        "    message = 'a=b={a}'\n",
        "else: #a と b が異なる場合\n",
        "    if a > b:\n",
        "        c = a\n",
        "        message = f'a={a} b={b} でa が大きい'\n",
        "    else:\n",
        "        c = b\n",
        "        message =f'a={a} b={b} でb が大きい'\n",
        "print(c, message)"
      ]
    },
    {
      "cell_type": "markdown",
      "metadata": {},
      "source": [
        "上の条件分岐の別表現を示す。`elif` (*else if* の意味) を使って、`else`節内での条件分岐を表すことができる。"
      ]
    },
    {
      "cell_type": "code",
      "execution_count": null,
      "metadata": {
        "trusted": true
      },
      "outputs": [],
      "source": [
        "if a == b : #a と b が等しい場合\n",
        "    c = a\n",
        "    message = 'a=b={a}'\n",
        "elif a > b:\n",
        "    c = a\n",
        "    message = f'a={a} b={b} でa が大きい'\n",
        "else:\n",
        "    c = b\n",
        "    message =f'a={a} b={b} でb が大きい'\n",
        "print(c, message)"
      ]
    },
    {
      "cell_type": "markdown",
      "metadata": {},
      "source": [
        "#  【課題】\n",
        "$x<0$の場合は$y=-1$、$0\\le x<1$の場合は$y=0$、それ以外は$y=1$となるプログラムを作成しなさい。\n",
        "また、その動作を確認しなさい。"
      ]
    },
    {
      "cell_type": "code",
      "execution_count": null,
      "metadata": {
        "trusted": true
      },
      "outputs": [],
      "source": []
    }
  ],
  "metadata": {
    "kernelspec": {
      "display_name": "Python 3.9.1 64-bit",
      "metadata": {
        "interpreter": {
          "hash": "d1c9a4ba5c9c176023b797405478169ed7f0a7109b887eab21bda023c3c6f220"
        }
      },
      "name": "python3"
    },
    "language_info": {
      "codemirror_mode": {
        "name": "ipython",
        "version": 3
      },
      "file_extension": ".py",
      "mimetype": "text/x-python",
      "name": "python",
      "nbconvert_exporter": "python",
      "pygments_lexer": "ipython3",
      "version": "3.11.6"
    }
  },
  "nbformat": 4,
  "nbformat_minor": 2
}
