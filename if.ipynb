{
  "cells": [
    {
      "metadata": {},
      "cell_type": "markdown",
      "source": [
        "# 条件分岐\n",
        "\n",
        "プログラム中の処理を条件に応じて変える必要がある場合に、条件分岐を用いる。\n",
        "\n",
        "ここでは、簡単な条件分岐の例を示す。コロン\":\"が条件ブロックの始まりを表し、インデントが範囲を示していることに注意する。\n",
        "\n",
        "一般に、プログラムのブロック開始はコロンであり、インデントはそのブロックの範囲を表す。"
      ]
    },
    {
      "metadata": {},
      "cell_type": "markdown",
      "source": [
        "## とても単純なifの例\n",
        "if 条件:\n",
        "    \n",
        "    条件を満たした場合の処理\n",
        "\n",
        "その後の処理"
      ]
    },
    {
      "metadata": {
        "trusted": true
      },
      "cell_type": "code",
      "source": [
        "a = -10\n",
        "if a < 0 :#aが負ならば、符号を変える\n",
        "    a *= -1\n",
        "print(a)"
      ],
      "execution_count": null,
      "outputs": []
    },
    {
      "metadata": {},
      "cell_type": "markdown",
      "source": [
        "if 条件:\n",
        "    \n",
        "    条件を満たした場合の処理\n",
        "    \n",
        "else:\n",
        "    \n",
        "    条件を満たさない場合の処理\n",
        "    \n",
        "その後の処理"
      ]
    },
    {
      "metadata": {
        "trusted": true,
        "scrolled": false
      },
      "cell_type": "code",
      "source": [
        "a = -20\n",
        "if a < 0 :#aが負の場合\n",
        "    b = -a\n",
        "else :#aが負でない場合\n",
        "    b = a\n",
        "print(b)"
      ],
      "execution_count": null,
      "outputs": []
    },
    {
      "metadata": {},
      "cell_type": "markdown",
      "source": [
        "## 複数の条件を判断する例"
      ]
    },
    {
      "metadata": {
        "trusted": true
      },
      "cell_type": "code",
      "source": [
        "a = 50\n",
        "b = -30\n",
        "c = 5"
      ],
      "execution_count": null,
      "outputs": []
    },
    {
      "metadata": {
        "trusted": true,
        "scrolled": true
      },
      "cell_type": "code",
      "source": [
        "message = '未設定'\n",
        "if a > 0 and b > 0 :\n",
        "    message = 'a もb も正です'\n",
        "if a > 0 or b > 0 :\n",
        "    message = 'a かb の少なくとも一方が正です'\n",
        "print(message)"
      ],
      "execution_count": null,
      "outputs": []
    },
    {
      "metadata": {
        "trusted": true
      },
      "cell_type": "code",
      "source": [
        "message = '未設定'\n",
        "if (a > 0 and b > 0) and c > 0 :\n",
        "    message = 'a もb もcも正です'\n",
        "if (a > 0 or b > 0) and c > 0 :\n",
        "    message = 'a かb の少なくとも一方が正で、cは正です'\n",
        "print(message)"
      ],
      "execution_count": null,
      "outputs": []
    },
    {
      "metadata": {},
      "cell_type": "markdown",
      "source": [
        "少し複雑な場合。例では、else節の中にさらにif-else節がある"
      ]
    },
    {
      "metadata": {
        "trusted": true
      },
      "cell_type": "code",
      "source": [
        "a = 50\n",
        "b = 30"
      ],
      "execution_count": null,
      "outputs": []
    },
    {
      "metadata": {
        "trusted": true
      },
      "cell_type": "code",
      "source": [
        "if a == b : #a と b が等しい場合\n",
        "    c = a\n",
        "    message = \"同点\"\n",
        "else: #a と b が異なる場合\n",
        "    if a > b:\n",
        "        c = a\n",
        "        message = f'a={c} b={b} でa の勝ち'\n",
        "    else:\n",
        "        c = b\n",
        "        message =f'a={c} b={b} でb の勝ち'\n",
        "print(message)"
      ],
      "execution_count": null,
      "outputs": []
    },
    {
      "metadata": {},
      "cell_type": "markdown",
      "source": [
        "上の条件分岐の別表現を示す。elif (else if の意味) を使って、else節内での条件分岐を表すことができる。"
      ]
    },
    {
      "metadata": {
        "trusted": true
      },
      "cell_type": "code",
      "source": [
        "if a == b : #a と b が等しい場合\n",
        "    c = a\n",
        "    message = \"同点\"\n",
        "elif a > b:\n",
        "    c = a\n",
        "    message = f'a={c} b={b} でa の勝ち'\n",
        "else:\n",
        "    c = b\n",
        "    message =f'a={c} b={b} でb の勝ち'\n",
        "print(message)"
      ],
      "execution_count": null,
      "outputs": []
    },
    {
      "metadata": {},
      "cell_type": "markdown",
      "source": [
        "他のプログラミング言語を知っている人向け注意：pythonにはswitch文が存在しない。上記のelifを用いて場合分けを行う。"
      ]
    },
    {
      "source": [
        "#  【課題】\n",
        "$x<0$の場合は$y=-1$、$0\\le x<1$の場合は$y=0$、それ以外は$y=1$となるプログラムを作成しなさい。\n",
        "また、その動作を確認しなさい。"
      ],
      "cell_type": "code",
      "metadata": {},
      "execution_count": null,
      "outputs": []
    },
    {
      "metadata": {
        "trusted": true
      },
      "cell_type": "code",
      "source": [],
      "execution_count": null,
      "outputs": []
    }
  ],
  "metadata": {
    "kernelspec": {
      "name": "python3",
      "display_name": "Python 3.9.1 64-bit",
      "metadata": {
        "interpreter": {
          "hash": "d1c9a4ba5c9c176023b797405478169ed7f0a7109b887eab21bda023c3c6f220"
        }
      }
    },
    "language_info": {
      "mimetype": "text/x-python",
      "nbconvert_exporter": "python",
      "name": "python",
      "pygments_lexer": "ipython3",
      "version": "3.9.1-final",
      "file_extension": ".py",
      "codemirror_mode": {
        "version": 3,
        "name": "ipython"
      }
    }
  },
  "nbformat": 4,
  "nbformat_minor": 2
}