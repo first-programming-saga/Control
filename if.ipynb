{
  "cells": [
    {
      "metadata": {},
      "cell_type": "markdown",
      "source": "# 条件分岐\n\nプログラム中の処理を条件に応じて変える必要がある場合に、条件分岐を用いる。\n\nここでは、簡単な条件分岐の例を示す。コロン\":\"が条件ブロックの始まりを表し、インデントが範囲を示していることに注意する。\n\n一般に、プログラムのブロック開始はコロンであり、インデントはそのブロックの範囲を表す。"
    },
    {
      "metadata": {},
      "cell_type": "markdown",
      "source": "## とても単純なifの例\nif 条件:\n    \n    条件を満たした場合の処理\n\nその後の処理"
    },
    {
      "metadata": {
        "trusted": true
      },
      "cell_type": "code",
      "source": "a=-10\nif a<0:#aが負ならば、符号を変える\n    a *=-1\nprint(a)",
      "execution_count": null,
      "outputs": []
    },
    {
      "metadata": {},
      "cell_type": "markdown",
      "source": "if 条件:\n    \n    条件を満たした場合の処理\n    \nelse:\n    \n    条件を満たさない場合の処理\n    \nその後の処理"
    },
    {
      "metadata": {
        "trusted": true,
        "scrolled": false
      },
      "cell_type": "code",
      "source": "a = -20\nif a<0:#aが負の場合\n    b = -a\nelse:#aが負でない場合\n    b = a\nprint(b)",
      "execution_count": null,
      "outputs": []
    },
    {
      "metadata": {},
      "cell_type": "markdown",
      "source": "## 複数の条件を判断する例"
    },
    {
      "metadata": {
        "trusted": true
      },
      "cell_type": "code",
      "source": "a = 50\nb = -30\nc = 5",
      "execution_count": null,
      "outputs": []
    },
    {
      "metadata": {
        "trusted": true,
        "scrolled": true
      },
      "cell_type": "code",
      "source": "message = '未設定'\nif a>0 and b>0 :\n    message = 'a もb も正です'\nif a>0 or b>0:\n    message = 'a かb の少なくとも一方が正です'\nprint(message)",
      "execution_count": null,
      "outputs": []
    },
    {
      "metadata": {
        "trusted": true
      },
      "cell_type": "code",
      "source": "message = '未設定'\nif (a>0 and b>0) and c>0 :\n    message = 'a もb もcも正です'\nif (a>0 or b>0) and c>0:\n    message = 'a かb の少なくとも一方が正で、cは正です'\nprint(message)",
      "execution_count": null,
      "outputs": []
    },
    {
      "metadata": {},
      "cell_type": "markdown",
      "source": "少し複雑な場合。例では、else節の中にさらにif-else節がある"
    },
    {
      "metadata": {
        "trusted": true
      },
      "cell_type": "code",
      "source": "a = 50\nb = 30",
      "execution_count": null,
      "outputs": []
    },
    {
      "metadata": {
        "trusted": true
      },
      "cell_type": "code",
      "source": "if a == b : #a と b が等しい場合\n    c = a\n    message = \"同点\"\nelse: #a と b が異なる場合\n    if a > b:\n        c = a\n        message = f'a={c} b={b} でa の勝ち'\n    else:\n        c = b\n        message =f'a={c} b={b} でb の勝ち'\nprint(message)",
      "execution_count": null,
      "outputs": []
    },
    {
      "metadata": {},
      "cell_type": "markdown",
      "source": "上の条件分岐の別表現を示す。elif (else if の意味) を使って、else節内での条件分岐を表すことができる。"
    },
    {
      "metadata": {
        "trusted": true
      },
      "cell_type": "code",
      "source": "if a == b : #a と b が等しい場合\n    c = a\n    message = \"同点\"\nelif a > b:\n    c = a\n    message = f'a={c} b={b} でa の勝ち'\nelse:\n    c = b\n    message =f'a={c} b={b} でb の勝ち'\nprint(message)",
      "execution_count": null,
      "outputs": []
    },
    {
      "metadata": {},
      "cell_type": "markdown",
      "source": "他のプログラミング言語を知っている人向け注意：pythonにはswitch文が存在しない。上記のelifを用いて場合分けを行う。"
    },
    {
      "metadata": {},
      "cell_type": "markdown",
      "source": "#  【課題】\n$x<0$の場合は$y=-1$、$0\\le x<1$の場合は$y=0$、それ以外は$y=1$となるプログラムを作成しなさい。\nまた、その動作を確認しなさい。"
    },
    {
      "metadata": {
        "trusted": true
      },
      "cell_type": "code",
      "source": "",
      "execution_count": null,
      "outputs": []
    }
  ],
  "metadata": {
    "kernelspec": {
      "name": "python36",
      "display_name": "Python 3.6",
      "language": "python"
    },
    "language_info": {
      "mimetype": "text/x-python",
      "nbconvert_exporter": "python",
      "name": "python",
      "pygments_lexer": "ipython3",
      "version": "3.6.6",
      "file_extension": ".py",
      "codemirror_mode": {
        "version": 3,
        "name": "ipython"
      }
    }
  },
  "nbformat": 4,
  "nbformat_minor": 2
}