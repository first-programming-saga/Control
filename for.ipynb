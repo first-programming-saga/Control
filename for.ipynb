{
  "cells": [
    {
      "attachments": {},
      "cell_type": "markdown",
      "metadata": {},
      "source": [
        "# `for`による繰り返し\n",
        "\n",
        "実行回数を指定して、同様な操作を繰り返します。\n",
        "\n",
        "## `range()`を用いた繰り返し回数の指定\n",
        "`range(`$n$`)`は$0$から$n-1$までの整数の範囲を表す。上限の表現に注意。"
      ]
    },
    {
      "cell_type": "markdown",
      "metadata": {},
      "source": [
        "0から10までの和"
      ]
    },
    {
      "cell_type": "code",
      "execution_count": null,
      "metadata": {
        "trusted": true
      },
      "outputs": [],
      "source": [
        "sum1 = 0\n",
        "for i in range(11):\n",
        "    sum1 += i\n",
        "print(sum1)"
      ]
    },
    {
      "attachments": {},
      "cell_type": "markdown",
      "metadata": {},
      "source": [
        "- `range(`$n,m$`)`は$n$から$m-1$までの整数\n",
        "- `range(`$n,m,k$`)`は$n$から$m-1$までの$k$毎の整数\n",
        "- 上限の表現に注意。"
      ]
    },
    {
      "cell_type": "code",
      "execution_count": null,
      "metadata": {
        "scrolled": true,
        "trusted": true
      },
      "outputs": [],
      "source": [
        "for i in range(3, 12, 3):\n",
        "    print(i)"
      ]
    },
    {
      "attachments": {},
      "cell_type": "markdown",
      "metadata": {},
      "source": [
        "## 【課題】\n",
        "\n",
        "$k$を10から1まで、ひとつづつ下げていくことで、その和を求めなさい"
      ]
    },
    {
      "cell_type": "code",
      "execution_count": null,
      "metadata": {},
      "outputs": [],
      "source": []
    },
    {
      "attachments": {},
      "cell_type": "markdown",
      "metadata": {},
      "source": [
        "## リストの各要素に対する操作の例\n",
        "- リストとは、値が一列に並んだもの\n",
        "- 要素はカンマで区切る：次回に詳しく説明\n",
        "- 色を表すリストから一つずつ取り出す例。"
      ]
    },
    {
      "cell_type": "code",
      "execution_count": null,
      "metadata": {
        "trusted": true
      },
      "outputs": [],
      "source": [
        "colors = [\"red\", \"green\", \"orange\", \"blue\"]#文字列のリスト\n",
        "for c in colors:\n",
        "    print(c)\n",
        "print(\"-------\")"
      ]
    },
    {
      "attachments": {},
      "cell_type": "markdown",
      "metadata": {},
      "source": [
        "上の例と同じ動作をするコード\n",
        "- `len()`は、リストの長さを返す関数\n",
        "- リスト内の位置を指定して、各要素を印刷"
      ]
    },
    {
      "cell_type": "code",
      "execution_count": null,
      "metadata": {
        "trusted": true
      },
      "outputs": [],
      "source": [
        "for i in range(len(colors)):\n",
        "    print(colors[i])\n",
        "print(\"-------\")"
      ]
    },
    {
      "cell_type": "markdown",
      "metadata": {},
      "source": [
        "## `for`文のネスティング\n",
        "`for`文の中に`for`文を書くこともできる。インデントに注意。"
      ]
    },
    {
      "cell_type": "code",
      "execution_count": null,
      "metadata": {
        "scrolled": true,
        "trusted": true
      },
      "outputs": [],
      "source": [
        "for i in range(3):\n",
        "    print (f'i={i}')\n",
        "    for j in range(4):\n",
        "        print(f'({i}, {j})')"
      ]
    },
    {
      "cell_type": "code",
      "execution_count": null,
      "metadata": {},
      "outputs": [],
      "source": [
        "n = 5\n",
        "for i in range(n, 0, -1):\n",
        "    for j in range(i + 1):\n",
        "            print(f'({i}, {j})')"
      ]
    },
    {
      "cell_type": "code",
      "execution_count": null,
      "metadata": {
        "trusted": true
      },
      "outputs": [],
      "source": [
        "data=[[0.1, 0.3, 0.9],\n",
        "      [0.4, 0.0, 0.5],\n",
        "      [0.8, 0.1, 0.4]\n",
        "     ]\n",
        "for i in range(len(data)):\n",
        "    part_of_data = data[i]\n",
        "    for j in range(len(part_of_data)):\n",
        "        x = part_of_data[j]\n",
        "        print(f'({i},{j})={x}')"
      ]
    },
    {
      "cell_type": "markdown",
      "metadata": {},
      "source": [
        "## de Morganの法則\n",
        "$\\neg$をnot、$\\vee$をor、$\\wedge$をandとして\n",
        "$$\\neg(p \\vee q) = \\neg p \\wedge \\neg q$$\n",
        "$$\\neg(p \\wedge q) = \\neg p \\vee \\neg q$$\n",
        "と表すことができる。これを確かめる例を示す。"
      ]
    },
    {
      "cell_type": "code",
      "execution_count": null,
      "metadata": {},
      "outputs": [],
      "source": [
        "for p in [True, False]:\n",
        "    for q in [True, False]:\n",
        "        r = (not (p or q))\n",
        "        s = (not (p and q))\n",
        "        x = ((not p) and (not q))\n",
        "        y = ((not p) or (not q))\n",
        "        print(f'{r} {x} {s} {y}')"
      ]
    },
    {
      "attachments": {},
      "cell_type": "markdown",
      "metadata": {
        "trusted": true
      },
      "source": [
        "## `break`と`continue`\n",
        "- `break`は`for`ループを抜ける\n",
        "- `continue`は、それ以降の`for`ループ内の処理を実行せず、次へ移る。\n",
        "    - `continue`の場合は、ループのインデクスが増えることに注意する。\n",
        "    - `while`との違いに注意する。\n",
        "\n",
        "例題ではリストの中から奇数のリストを生成する。しかし、リストの途中に負の量があると、そこで停止する。"
      ]
    },
    {
      "cell_type": "code",
      "execution_count": null,
      "metadata": {
        "trusted": true
      },
      "outputs": [],
      "source": [
        "data=[2, 5, 7, 9, 11, -3, 8, -11, 10, 15]\n",
        "out = []\n",
        "for x in data:\n",
        "    if x < 0:\n",
        "        print('負の要素を発見。ループ中断')\n",
        "        break\n",
        "    if x%2 == 0:\n",
        "        continue\n",
        "    out.append(x)\n",
        "print(out)"
      ]
    },
    {
      "cell_type": "markdown",
      "metadata": {},
      "source": [
        "## `for-else`構文\n",
        "`for`に対しても`else`は`for`の終了後に実行すべき処理を記述できる\n",
        "\n",
        "例では、`data`がすべて正の量の場合のみ、結果が出力される。"
      ]
    },
    {
      "cell_type": "code",
      "execution_count": null,
      "metadata": {
        "trusted": true
      },
      "outputs": [],
      "source": [
        "data=[2, 5, 7, 9, 11, -3, 8, -11, 10, 15]\n",
        "out = []\n",
        "for x in data:\n",
        "    if x < 0:\n",
        "        print('負の要素を発見。ループ中断')\n",
        "        break\n",
        "    if x%2 == 0:\n",
        "        continue\n",
        "    out.append(x)\n",
        "else:\n",
        "    print(out)"
      ]
    }
  ],
  "metadata": {
    "kernelspec": {
      "display_name": "Python 3.9.7 ('myenv')",
      "language": "python",
      "name": "python3"
    },
    "language_info": {
      "codemirror_mode": {
        "name": "ipython",
        "version": 3
      },
      "file_extension": ".py",
      "mimetype": "text/x-python",
      "name": "python",
      "nbconvert_exporter": "python",
      "pygments_lexer": "ipython3",
      "version": "3.11.6"
    },
    "vscode": {
      "interpreter": {
        "hash": "5b50574aca822a4663eeb358827631e5cbe081f130521b0066dec6b864ef6f2f"
      }
    }
  },
  "nbformat": 4,
  "nbformat_minor": 2
}
